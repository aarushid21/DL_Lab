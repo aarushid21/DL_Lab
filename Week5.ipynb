{
 "cells": [
  {
   "cell_type": "code",
   "execution_count": 6,
   "id": "423ec69a-3a06-4a5b-a27d-9c336dbf37c3",
   "metadata": {},
   "outputs": [
    {
     "name": "stdout",
     "output_type": "stream",
     "text": [
      "The shape of the image is torch.Size([1, 1, 6, 6])\n",
      "The randomized image matrix is\n",
      "tensor([[[[0.7855, 0.9438, 0.5440, 0.5327, 0.2183, 0.5356],\n",
      "          [0.0362, 0.8899, 0.9737, 0.0755, 0.7676, 0.1353],\n",
      "          [0.7232, 0.9310, 0.8266, 0.3051, 0.3841, 0.8537],\n",
      "          [0.9013, 0.9915, 0.1174, 0.8064, 0.3471, 0.0399],\n",
      "          [0.0177, 0.0757, 0.7312, 0.7147, 0.8471, 0.9472],\n",
      "          [0.5494, 0.5338, 0.6550, 0.8870, 0.7871, 0.0607]]]])\n",
      "The image will be convolved with the kernel:\n",
      "tensor([[[[0.1498, 0.6362, 0.6469],\n",
      "          [0.9085, 0.4362, 0.0973],\n",
      "          [0.0623, 0.6783, 0.7193]]]])\n",
      "The shape of the kernel is torch.Size([1, 1, 3, 3])\n",
      "The convolved output image is:\n",
      "tensor([[[[2.8571, 2.9108, 2.0886, 1.8754],\n",
      "          [3.1582, 2.7591, 2.4159, 1.4294],\n",
      "          [3.0766, 2.9080, 2.1982, 3.0307],\n",
      "          [1.8295, 2.3177, 3.0223, 2.1111]]]])\n",
      "The shape of the output image is torch.Size([1, 1, 4, 4])\n"
     ]
    }
   ],
   "source": [
    "#Implement convolution operation for a sample image of shape (H=6, W=6, C=1) with a random kernel of size (3,3) using torch.nn.functional.conv2d\n",
    "import torch\n",
    "import torch.nn.functional as functional\n",
    "\n",
    "image = torch.rand(1, 1, 6, 6)\n",
    "print(\"The shape of the image is \" + str(image.size()))\n",
    "print(\"The randomized image matrix is\")\n",
    "print(image)\n",
    "kernel = torch.rand(1, 1, 3, 3)\n",
    "print(\"The image will be convolved with the kernel:\")\n",
    "print(kernel)\n",
    "print(\"The shape of the kernel is \" + str(kernel.size()))\n",
    "out_image = functional.conv2d(image, kernel, padding = 0)\n",
    "print(\"The convolved output image is:\")\n",
    "print(out_image) \n",
    "print(\"The shape of the output image is \" + str(out_image.size()))"
   ]
  },
  {
   "cell_type": "code",
   "execution_count": 7,
   "id": "cb141d2e-2e60-4200-ab07-2a731afcfa4c",
   "metadata": {},
   "outputs": [
    {
     "data": {
      "text/plain": [
       "'What is the dimension of the output image? Apply, various values for parameter stride=1and note the change in the dimension of the output image. Arrive at an equation for the\\noutput image size with respect to the kernel size and stride and verify your answer with code. Now, repeat the exercise by changing padding parameter. Obtain a formula using\\nkernel, stride, and padding to get the output image size. What is the total number of parameters in your network? Verify with code. (done in notebook)'"
      ]
     },
     "execution_count": 7,
     "metadata": {},
     "output_type": "execute_result"
    }
   ],
   "source": [
    "\"\"\"What is the dimension of the output image? Apply, various values for parameter stride=1and note the change in the dimension of the output image. Arrive at an equation for the\n",
    "output image size with respect to the kernel size and stride and verify your answer with code. Now, repeat the exercise by changing padding parameter. Obtain a formula using\n",
    "kernel, stride, and padding to get the output image size. What is the total number of parameters in your network? Verify with code. (done in notebook)\"\"\""
   ]
  },
  {
   "cell_type": "code",
   "execution_count": 8,
   "id": "14ee7023-4c0b-4543-8c64-c949253c6ec8",
   "metadata": {},
   "outputs": [
    {
     "name": "stdout",
     "output_type": "stream",
     "text": [
      "tensor([[[[-0.0584, -0.0136, -0.3412, -0.4254],\n",
      "          [-0.1496, -0.3625, -0.1028, -0.3297],\n",
      "          [-0.5505, -0.3504, -0.0994, -0.2197],\n",
      "          [-0.2802, -0.2491, -0.3506, -0.0632]],\n",
      "\n",
      "         [[ 0.1109,  0.0558,  0.4281, -0.1193],\n",
      "          [ 0.0260, -0.0473,  0.0368, -0.1541],\n",
      "          [-0.0523, -0.1069,  0.1559,  0.0132],\n",
      "          [-0.0578, -0.1408, -0.1626, -0.0869]],\n",
      "\n",
      "         [[ 0.2967,  0.3383,  0.4576, -0.0149],\n",
      "          [ 0.4169,  0.1456,  0.1795,  0.3215],\n",
      "          [ 0.0360,  0.3532,  0.3030,  0.5339],\n",
      "          [-0.2160,  0.2872,  0.0644,  0.1686]]]],\n",
      "       grad_fn=<ConvolutionBackward0>)\n",
      "The shape of the output image istorch.Size([1, 3, 4, 4])\n"
     ]
    }
   ],
   "source": [
    "#Apply torch.nn.Conv2d to the input image of Qn 1 with out-channel=3 and observe theoutput. Implement the equivalent of torch.nn.Conv2d using the torch.nn.functional.conv2D to get the same output. You may ignore bias.\n",
    "import torch\n",
    "import torch. nn as nn\n",
    "\n",
    "image = torch.rand(1, 1, 6, 6)\n",
    "process = nn.Conv2d(in_channels = 1, out_channels = 3, kernel_size = 3, stride = (1, 1), padding = (0, 0))\n",
    "out_image = process(image)\n",
    "print(out_image)\n",
    "print(\"The shape of the output image is\" + str(out_image.size()))\n"
   ]
  },
  {
   "cell_type": "code",
   "execution_count": 18,
   "id": "18d49791-68c2-4c19-98ea-fe5a3c2b45f2",
   "metadata": {},
   "outputs": [
    {
     "name": "stdout",
     "output_type": "stream",
     "text": [
      "Epoch number 0 Loss is 0.008381564380011211\n",
      "Epoch number 2 Loss is 0.0006581380696423973\n",
      "Epoch number 4 Loss is 0.00041617583584738893\n",
      "Epoch number 6 Loss is 0.0002953471036821914\n",
      "Epoch number 8 Loss is 0.0002218066582621153\n"
     ]
    }
   ],
   "source": [
    "\"\"\"Implement CNN for classifying digits in MNIST dataset using PyTorch. Display the\n",
    "classification accuracy in the form of a Confusion matrix. Verify the number of learnable\n",
    "parameters in the model.\n",
    "Training a CNN on an image dataset is similar to training a basic multi-layer feed-forward\n",
    "network on numerical data as outlined below.\n",
    "Define model architecture\n",
    "Load dataset from disk\n",
    "Loop over epochs and batches\n",
    "Make predictions and compute loss\n",
    "Properly zero our gradient, perform backpropagation, and update model parameters\"\"\"\n",
    "import torch.nn as nn\n",
    "from keras.datasets import mnist\n",
    "from torch import optim\n",
    "from torch.utils.data import Dataset, DataLoader\n",
    "\n",
    "\n",
    "class CNN(nn.Module):\n",
    "    def __init__(self):\n",
    "        super().__init__()\n",
    "        self.net = nn.Sequential(nn.Conv2d(1, 64, kernel_size = 4), \n",
    "        nn.ReLU(), \n",
    "        nn.MaxPool2d((2, 2), stride = 2), \n",
    "        nn.Conv2d(64, 128, kernel_size = 3), \n",
    "        nn.ReLU(), \n",
    "        nn.MaxPool2d((2, 2), stride = 2), \n",
    "        nn.Conv2d(128, 64, kernel_size = 3), \n",
    "        nn.ReLU(), \n",
    "        nn.MaxPool2d((2, 2), stride = 2))\n",
    "        self.classification_head = nn.Sequential(nn.Linear(64, 20, bias = True),\n",
    "        nn.ReLU(), \n",
    "        nn.Linear(20, 10, bias = True))\n",
    "\n",
    "    def forward(self, x):\n",
    "        features = self.net(x)\n",
    "        return self.classification_head(features.view(batch_size, -1))\n",
    "        \n",
    "class customdataset(Dataset):\n",
    "    def __init__(self, x, y):\n",
    "        self.x = torch.tensor(x, dtype=torch.float32)\n",
    "        self.y = torch.tensor(y, dtype=torch.float32)\n",
    "        self.y = self.y.type(torch.LongTensor)\n",
    "\n",
    "    def size(self):\n",
    "        return len(self.x)\n",
    "\n",
    "    def get_item(self, index):\n",
    "        return [self.x[index], self.y[index]]\n",
    "\n",
    "(train_x, train_y), (test_x, test_y) = mnist.load_data()\n",
    "data = customdataset(train_x, train_y)\n",
    "batch_size = 100\n",
    "train_data_loader = DataLoader(list(zip(data.x, data.y)), batch_size, shuffle = True)\n",
    "m1 = CNN().to('cuda')\n",
    "loss_fn = nn.CrossEntropyLoss()\n",
    "optimizer = optim.SGD(m1.parameters(), lr=0.01)\n",
    "losses = []\n",
    "m1.train(True)\n",
    "\n",
    "\n",
    "for epoch in range(10):\n",
    "    loss_t = 0\n",
    "    for i, data in enumerate(train_data_loader):\n",
    "        inputs, labels = data\n",
    "        inputs = inputs.to('cuda')\n",
    "        labels = labels.to('cuda')\n",
    "        inputs = torch.unsqueeze(inputs, 1)\n",
    "        optimizer.zero_grad()\n",
    "        outputs = m1.forward(inputs)\n",
    "        loss = loss_fn(outputs, labels)\n",
    "        loss.backward()\n",
    "        optimizer.step()\n",
    "        loss_t += loss.item()\n",
    "#         if i%50 == 0:\n",
    "#             print(\"Data entry:\", i)\n",
    "    loss_t = loss_t/(len(train_data_loader)*batch_size)\n",
    "    losses.append(loss_t)\n",
    "    if epoch%2 == 0:\n",
    "        print(\"Epoch number \" + str(epoch) + \" Loss is \" + str(loss_t))\n"
   ]
  },
  {
   "cell_type": "code",
   "execution_count": 19,
   "id": "0c83c4ba-0e1a-435e-868c-cc86c6e79e7d",
   "metadata": {},
   "outputs": [
    {
     "data": {
      "text/plain": [
       "[<matplotlib.lines.Line2D at 0x7fe47fb15ae0>]"
      ]
     },
     "execution_count": 19,
     "metadata": {},
     "output_type": "execute_result"
    },
    {
     "data": {
      "image/png": "[encoded data removed]",
      "text/plain": [
       "<Figure size 432x288 with 1 Axes>"
      ]
     },
     "metadata": {
      "needs_background": "light"
     },
     "output_type": "display_data"
    }
   ],
   "source": [
    "import matplotlib.pyplot as plt\n",
    "plt.plot([i for i in range(0, len(losses))], losses)"
   ]
  },
  {
   "cell_type": "code",
   "execution_count": 20,
   "id": "c3c28a7b",
   "metadata": {},
   "outputs": [
    {
     "name": "stdout",
     "output_type": "stream",
     "text": [
      "0.00019112597438215745\n"
     ]
    }
   ],
   "source": [
    "print(losses[-1])"
   ]
  },
  {
   "cell_type": "code",
   "execution_count": 15,
   "id": "24c84574-4ae3-421c-a0d1-f78ee78b5da4",
   "metadata": {},
   "outputs": [],
   "source": [
    "torch.save(m1,\"m_modified.pt\")"
   ]
  },
  {
   "cell_type": "code",
   "execution_count": 16,
   "id": "59aab0c5-ca92-4319-a5f4-6868d04387a6",
   "metadata": {},
   "outputs": [
    {
     "name": "stdout",
     "output_type": "stream",
     "text": [
      "Epoch number 0 Loss is 0.0052972200914596515\n",
      "Epoch number 2 Loss is 0.0008016504513022179\n",
      "Epoch number 4 Loss is 0.0005052817618629585\n",
      "Epoch number 6 Loss is 0.0003673964352851423\n",
      "Epoch number 8 Loss is 0.0002639624031765076\n"
     ]
    }
   ],
   "source": [
    "#Modify CNN of Qn. 3 to reduce the number of parameters in the network. Draw a plot of percentage drop in parameters vs accuracy.\n",
    "#modification 1\n",
    "class CNN(nn.Module):\n",
    "    def __init__(self):\n",
    "        super().__init__()\n",
    "        self.net = nn.Sequential(nn.Conv2d(1, 32, kernel_size = 4), \n",
    "        nn.ReLU(), \n",
    "        nn.MaxPool2d((2, 2), stride = 2), \n",
    "        nn.Conv2d(32, 64, kernel_size = 3), \n",
    "        nn.ReLU(), \n",
    "        nn.MaxPool2d((2, 2), stride = 2), \n",
    "        nn.Conv2d(64, 32, kernel_size = 3), \n",
    "        nn.ReLU(), \n",
    "        nn.MaxPool2d((2, 2), stride = 2))\n",
    "        self.classification_head = nn.Sequential(nn.Linear(32, 16, bias = True),\n",
    "        nn.ReLU(), \n",
    "        nn.Linear(16, 10, bias = True))\n",
    "\n",
    "    def forward(self, x):\n",
    "        features = self.net(x)\n",
    "        return self.classification_head(features.view(batch_size, -1))\n",
    "        \n",
    "class customdataset(Dataset):\n",
    "    def __init__(self, x, y):\n",
    "        self.x = torch.tensor(x, dtype=torch.float32)\n",
    "        self.y = torch.tensor(y, dtype=torch.float32)\n",
    "        self.y = self.y.type(torch.LongTensor)\n",
    "\n",
    "    def size(self):\n",
    "        return len(self.x)\n",
    "\n",
    "    def get_item(self, index):\n",
    "        return [self.x[index], self.y[index]]\n",
    "\n",
    "(train_x, train_y), (test_x, test_y) = mnist.load_data()\n",
    "data = customdataset(train_x, train_y)\n",
    "batch_size = 100\n",
    "train_data_loader = DataLoader(list(zip(data.x, data.y)), batch_size, shuffle = True)\n",
    "m1 = CNN().to('cuda')\n",
    "loss_fn = nn.CrossEntropyLoss()\n",
    "optimizer = optim.SGD(m1.parameters(), lr=0.01)\n",
    "losses = []\n",
    "m1.train(True)\n",
    "\n",
    "\n",
    "for epoch in range(10):\n",
    "    loss_t = 0\n",
    "    for i, data in enumerate(train_data_loader):\n",
    "        inputs, labels = data\n",
    "        inputs = inputs.to('cuda')\n",
    "        labels = labels.to('cuda')\n",
    "        inputs = torch.unsqueeze(inputs, 1)\n",
    "        optimizer.zero_grad()\n",
    "        outputs = m1.forward(inputs)\n",
    "        loss = loss_fn(outputs, labels)\n",
    "        loss.backward()\n",
    "        optimizer.step()\n",
    "        loss_t += loss.item()\n",
    "#         if i%50 == 0:\n",
    "#             print(\"Data entry:\", i)\n",
    "    loss_t = loss_t/(len(train_data_loader)*batch_size)\n",
    "    losses.append(loss_t)\n",
    "    if epoch%2 == 0:\n",
    "        print(\"Epoch number \" + str(epoch) + \" Loss is \" + str(loss_t))\n"
   ]
  },
  {
   "cell_type": "code",
   "execution_count": 21,
   "id": "f236e0a8",
   "metadata": {},
   "outputs": [
    {
     "name": "stdout",
     "output_type": "stream",
     "text": [
      "Epoch number 0 Loss is 0.013835897170503934\n",
      "Epoch number 2 Loss is 0.0031826578664282956\n",
      "Epoch number 4 Loss is 0.0019172067871317268\n",
      "Epoch number 6 Loss is 0.0015659983543679118\n",
      "Epoch number 8 Loss is 0.0013771434812496106\n"
     ]
    }
   ],
   "source": [
    "#modification 2\n",
    "class CNN(nn.Module):\n",
    "    def __init__(self):\n",
    "        super().__init__()\n",
    "        self.net = nn.Sequential(nn.Conv2d(1, 8, kernel_size = 4), \n",
    "        nn.ReLU(), \n",
    "        nn.MaxPool2d((2, 2), stride = 2), \n",
    "        nn.Conv2d(8, 16, kernel_size = 3), \n",
    "        nn.ReLU(), \n",
    "        nn.MaxPool2d((2, 2), stride = 2), \n",
    "        nn.Conv2d(16, 8, kernel_size = 3), \n",
    "        nn.ReLU(), \n",
    "        nn.MaxPool2d((2, 2), stride = 2))\n",
    "        self.classification_head = nn.Sequential(nn.Linear(8, 12, bias = True),\n",
    "        nn.ReLU(), \n",
    "        nn.Linear(12, 10, bias = True))\n",
    "\n",
    "    def forward(self, x):\n",
    "        features = self.net(x)\n",
    "        return self.classification_head(features.view(batch_size, -1))\n",
    "        \n",
    "class customdataset(Dataset):\n",
    "    def __init__(self, x, y):\n",
    "        self.x = torch.tensor(x, dtype=torch.float32)\n",
    "        self.y = torch.tensor(y, dtype=torch.float32)\n",
    "        self.y = self.y.type(torch.LongTensor)\n",
    "\n",
    "    def size(self):\n",
    "        return len(self.x)\n",
    "\n",
    "    def get_item(self, index):\n",
    "        return [self.x[index], self.y[index]]\n",
    "\n",
    "(train_x, train_y), (test_x, test_y) = mnist.load_data()\n",
    "data = customdataset(train_x, train_y)\n",
    "batch_size = 100\n",
    "train_data_loader = DataLoader(list(zip(data.x, data.y)), batch_size, shuffle = True)\n",
    "m1 = CNN().to('cuda')\n",
    "loss_fn = nn.CrossEntropyLoss()\n",
    "optimizer = optim.SGD(m1.parameters(), lr=0.01)\n",
    "losses = []\n",
    "m1.train(True)\n",
    "\n",
    "\n",
    "for epoch in range(10):\n",
    "    loss_t = 0\n",
    "    for i, data in enumerate(train_data_loader):\n",
    "        inputs, labels = data\n",
    "        inputs = inputs.to('cuda')\n",
    "        labels = labels.to('cuda')\n",
    "        inputs = torch.unsqueeze(inputs, 1)\n",
    "        optimizer.zero_grad()\n",
    "        outputs = m1.forward(inputs)\n",
    "        loss = loss_fn(outputs, labels)\n",
    "        loss.backward()\n",
    "        optimizer.step()\n",
    "        loss_t += loss.item()\n",
    "#         if i%50 == 0:\n",
    "#             print(\"Data entry:\", i)\n",
    "    loss_t = loss_t/(len(train_data_loader)*batch_size)\n",
    "    losses.append(loss_t)\n",
    "    if epoch%2 == 0:\n",
    "        print(\"Epoch number \" + str(epoch) + \" Loss is \" + str(loss_t))\n"
   ]
  },
  {
   "cell_type": "code",
   "execution_count": 22,
   "id": "9bc19016",
   "metadata": {},
   "outputs": [
    {
     "name": "stdout",
     "output_type": "stream",
     "text": [
      "0.0013026189769618213\n"
     ]
    }
   ],
   "source": [
    "print(losses[-1])"
   ]
  },
  {
   "cell_type": "code",
   "execution_count": 23,
   "id": "13bbcb57",
   "metadata": {},
   "outputs": [
    {
     "data": {
      "text/plain": [
       "[<matplotlib.lines.Line2D at 0x7fe4741e00a0>]"
      ]
     },
     "execution_count": 23,
     "metadata": {},
     "output_type": "execute_result"
    },
    {
     "data": {
      "image/png": "[encoded data removed]",
      "text/plain": [
       "<Figure size 432x288 with 1 Axes>"
      ]
     },
     "metadata": {
      "needs_background": "light"
     },
     "output_type": "display_data"
    }
   ],
   "source": [
    "#number of params VS final loss: \n",
    "num_params = [20710, 11298, 2802]\n",
    "final_loss = [0.00019112597438215745, 0.00023258695549836073, 0.0013026189769618213]\n",
    "import matplotlib.pyplot as plt\n",
    "plt.plot(num_params, final_loss)"
   ]
  },
  {
   "cell_type": "code",
   "execution_count": null,
   "id": "057bd56a",
   "metadata": {},
   "outputs": [],
   "source": []
  }
 ],
 "metadata": {
  "kernelspec": {
   "display_name": "Python 3 (ipykernel)",
   "language": "python",
   "name": "python3"
  },
  "language_info": {
   "codemirror_mode": {
    "name": "ipython",
    "version": 3
   },
   "file_extension": ".py",
   "mimetype": "text/x-python",
   "name": "python",
   "nbconvert_exporter": "python",
   "pygments_lexer": "ipython3",
   "version": "3.10.12"
  }
 },
 "nbformat": 4,
 "nbformat_minor": 5
}
