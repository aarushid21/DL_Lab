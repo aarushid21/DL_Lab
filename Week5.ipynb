{
 "cells": [
  {
   "cell_type": "code",
   "execution_count": 34,
   "id": "423ec69a-3a06-4a5b-a27d-9c336dbf37c3",
   "metadata": {},
   "outputs": [
    {
     "name": "stdout",
     "output_type": "stream",
     "text": [
      "The shape of the image is torch.Size([1, 1, 6, 6])\n",
      "The randomized image matrix is\n",
      "tensor([[[[0.2075, 0.4384, 0.4509, 0.9157, 0.9157, 0.8891],\n",
      "          [0.4148, 0.7016, 0.5064, 0.8856, 0.1990, 0.7958],\n",
      "          [0.7914, 0.7832, 0.6472, 0.8797, 0.3342, 0.6023],\n",
      "          [0.9563, 0.4461, 0.3975, 0.3825, 0.6003, 0.3360],\n",
      "          [0.7075, 0.9914, 0.2893, 0.2633, 0.9254, 0.1521],\n",
      "          [0.7886, 0.3844, 0.1108, 0.5798, 0.8465, 0.2806]]]])\n",
      "The image will be convolved with the kernel:\n",
      "tensor([[[[0.9618, 0.8507, 0.0786],\n",
      "          [0.3020, 0.7099, 0.5056],\n",
      "          [0.4780, 0.4283, 0.7615]]]])\n",
      "The shape of the kernel is torch.Size([1, 1, 3, 3])\n",
      "The convolved output image is:\n",
      "tensor([[[[2.6940, 3.2179, 3.1076, 3.5629],\n",
      "          [3.1088, 2.9908, 3.0560, 2.5869],\n",
      "          [3.2679, 2.7816, 3.0479, 2.5273],\n",
      "          [3.0203, 2.1079, 2.4429, 2.5717]]]])\n",
      "The shape of the output image is torch.Size([1, 1, 4, 4])\n"
     ]
    }
   ],
   "source": [
    "#Implement convolution operation for a sample image of shape (H=6, W=6, C=1) with a random kernel of size (3,3) using torch.nn.functional.conv2d\n",
    "import torch\n",
    "import torch.nn.functional as functional\n",
    "\n",
    "image = torch.rand(1, 1, 6, 6)\n",
    "print(\"The shape of the image is \" + str(image.size()))\n",
    "print(\"The randomized image matrix is\")\n",
    "print(image)\n",
    "kernel = torch.rand(1, 1, 3, 3)\n",
    "print(\"The image will be convolved with the kernel:\")\n",
    "print(kernel)\n",
    "print(\"The shape of the kernel is \" + str(kernel.size()))\n",
    "out_image = functional.conv2d(image, kernel, padding = 0)\n",
    "print(\"The convolved output image is:\")\n",
    "print(out_image) \n",
    "print(\"The shape of the output image is \" + str(out_image.size()))"
   ]
  },
  {
   "cell_type": "code",
   "execution_count": 35,
   "id": "cb141d2e-2e60-4200-ab07-2a731afcfa4c",
   "metadata": {},
   "outputs": [
    {
     "data": {
      "text/plain": [
       "'What is the dimension of the output image? Apply, various values for parameter stride=1and note the change in the dimension of the output image. Arrive at an equation for the\\noutput image size with respect to the kernel size and stride and verify your answer with code. Now, repeat the exercise by changing padding parameter. Obtain a formula using\\nkernel, stride, and padding to get the output image size. What is the total number of parameters in your network? Verify with code. (done in notebook)'"
      ]
     },
     "execution_count": 35,
     "metadata": {},
     "output_type": "execute_result"
    }
   ],
   "source": [
    "\"\"\"What is the dimension of the output image? Apply, various values for parameter stride=1and note the change in the dimension of the output image. Arrive at an equation for the\n",
    "output image size with respect to the kernel size and stride and verify your answer with code. Now, repeat the exercise by changing padding parameter. Obtain a formula using\n",
    "kernel, stride, and padding to get the output image size. What is the total number of parameters in your network? Verify with code. (done in notebook)\"\"\""
   ]
  },
  {
   "cell_type": "code",
   "execution_count": 40,
   "id": "14ee7023-4c0b-4543-8c64-c949253c6ec8",
   "metadata": {},
   "outputs": [
    {
     "name": "stdout",
     "output_type": "stream",
     "text": [
      "tensor([[[[ 0.4122,  0.3650,  0.2517,  0.3444],\n",
      "          [ 0.2111,  0.1907,  0.2203,  0.2979],\n",
      "          [ 0.0719,  0.0828,  0.4420,  0.2929],\n",
      "          [-0.0136,  0.3570,  0.4861,  0.4773]],\n",
      "\n",
      "         [[-0.3496,  0.0245, -0.5182, -0.1284],\n",
      "          [-0.2780, -0.2203, -0.2102, -0.0851],\n",
      "          [-0.4607, -0.2571, -0.0983, -0.3700],\n",
      "          [-0.4344, -0.0924,  0.0577, -0.3000]],\n",
      "\n",
      "         [[ 0.1284, -0.4204, -0.2779, -0.1705],\n",
      "          [-0.3815, -0.1992, -0.2258, -0.2870],\n",
      "          [-0.0178, -0.1243, -0.0339, -0.3041],\n",
      "          [-0.0119,  0.0615, -0.2862, -0.2965]]]],\n",
      "       grad_fn=<ConvolutionBackward0>)\n",
      "The shape of the output image istorch.Size([1, 3, 4, 4])\n"
     ]
    }
   ],
   "source": [
    "#Apply torch.nn.Conv2d to the input image of Qn 1 with out-channel=3 and observe theoutput. Implement the equivalent of torch.nn.Conv2d using the torch.nn.functional.conv2D to get the same output. You may ignore bias.\n",
    "import torch\n",
    "import torch. nn as nn\n",
    "\n",
    "image = torch.rand(1, 1, 6, 6)\n",
    "process = nn.Conv2d(in_channels = 1, out_channels = 3, kernel_size = 3, stride = (1, 1), padding = (0, 0))\n",
    "out_image = process(image)\n",
    "print(out_image)\n",
    "print(\"The shape of the output image is\" + str(out_image.size()))\n"
   ]
  },
  {
   "cell_type": "code",
   "execution_count": 118,
   "id": "18d49791-68c2-4c19-98ea-fe5a3c2b45f2",
   "metadata": {},
   "outputs": [
    {
     "name": "stdout",
     "output_type": "stream",
     "text": [
      "Data entry: 0\n",
      "Data entry: 50\n",
      "Data entry: 100\n",
      "Data entry: 150\n",
      "Data entry: 200\n",
      "Data entry: 250\n",
      "Data entry: 300\n",
      "Data entry: 350\n",
      "Data entry: 400\n",
      "Data entry: 450\n",
      "Data entry: 500\n",
      "Data entry: 550\n",
      "Data entry: 0\n",
      "Data entry: 50\n",
      "Data entry: 100\n",
      "Data entry: 150\n",
      "Data entry: 200\n",
      "Data entry: 250\n",
      "Data entry: 300\n",
      "Data entry: 350\n",
      "Data entry: 400\n",
      "Data entry: 450\n",
      "Data entry: 500\n",
      "Data entry: 550\n"
     ]
    }
   ],
   "source": [
    "\"\"\"Implement CNN for classifying digits in MNIST dataset using PyTorch. Display the\n",
    "classification accuracy in the form of a Confusion matrix. Verify the number of learnable\n",
    "parameters in the model.\n",
    "Training a CNN on an image dataset is similar to training a basic multi-layer feed-forward\n",
    "network on numerical data as outlined below.\n",
    "Define model architecture\n",
    "Load dataset from disk\n",
    "Loop over epochs and batches\n",
    "Make predictions and compute loss\n",
    "Properly zero our gradient, perform backpropagation, and update model parameters\"\"\"\n",
    "import torch.nn as nn\n",
    "from keras.datasets import mnist\n",
    "from torch import optim\n",
    "from torch.utils.data import Dataset, DataLoader\n",
    "\n",
    "\n",
    "class CNN(nn.Module):\n",
    "    def __init__(self):\n",
    "        super().__init__()\n",
    "        self.net = nn.Sequential(nn.Conv2d(1, 64, kernel_size = 4), \n",
    "        nn.ReLU(), \n",
    "        nn.MaxPool2d((2, 2), stride = 2), \n",
    "        nn.Conv2d(64, 128, kernel_size = 3), \n",
    "        nn.ReLU(), \n",
    "        nn.MaxPool2d((2, 2), stride = 2), \n",
    "        nn.Conv2d(128, 64, kernel_size = 3), \n",
    "        nn.ReLU(), \n",
    "        nn.MaxPool2d((2, 2), stride = 2))\n",
    "        self.classification_head = nn.Sequential(nn.Linear(64, 20, bias = True),\n",
    "        nn.ReLU(), \n",
    "        nn.Linear(20, 10, bias = True))\n",
    "\n",
    "    def forward(self, x):\n",
    "        features = self.net(x)\n",
    "        return self.classification_head(features.view(batch_size, -1))\n",
    "        \n",
    "class customdataset(Dataset):\n",
    "  def __init__(self, x, y):\n",
    "    self.x = torch.tensor(x, dtype=torch.float32)\n",
    "    self.y = torch.tensor(y, dtype=torch.float32)\n",
    "    self.y = self.y.type(torch.LongTensor)\n",
    "\n",
    "  def size(self):\n",
    "    return len(self.x)\n",
    "\n",
    "  def get_item(self, index):\n",
    "    return [self.x[index], self.y[index]]\n",
    "\n",
    "(train_x, train_y), (test_x, test_y) = mnist.load_data()\n",
    "data = customdataset(train_x, train_y)\n",
    "batch_size = 100\n",
    "train_data_loader = DataLoader(list(zip(data.x, data.y)), batch_size, shuffle = True)\n",
    "m1 = CNN()\n",
    "loss_fn = nn.CrossEntropyLoss()\n",
    "optimizer = optim.SGD(m1.parameters(), lr=0.01)\n",
    "losses = []\n",
    "\n",
    "\n",
    "for epoch in range(2):\n",
    "    m1.train(True)\n",
    "    loss_t = 0\n",
    "    for i, data in enumerate(train_data_loader):\n",
    "        inputs, labels = data\n",
    "        inputs = torch.unsqueeze(inputs, 1)\n",
    "        optimizer.zero_grad()\n",
    "        outputs = m1.forward(inputs)\n",
    "        loss = loss_fn(outputs, labels)\n",
    "        loss.backward()\n",
    "        optimizer.step()\n",
    "        loss_t += loss.item()\n",
    "        if i%50 == 0:\n",
    "            print(\"Data entry:\", i)\n",
    "    loss_t = loss_t/(len(train_data_loader)*batch_size)\n",
    "    losses.append(loss_t)\n",
    "    \"\"\"if epoch%10 == 0:\n",
    "        print(\"Epoch number \" + str(epoch) + \" Loss is \" + str(loss_t))\"\"\"\n"
   ]
  },
  {
   "cell_type": "code",
   "execution_count": 101,
   "id": "0c83c4ba-0e1a-435e-868c-cc86c6e79e7d",
   "metadata": {},
   "outputs": [
    {
     "data": {
      "text/plain": [
       "[<matplotlib.lines.Line2D at 0x7feed7e40cd0>]"
      ]
     },
     "execution_count": 101,
     "metadata": {},
     "output_type": "execute_result"
    },
    {
     "data": {
      "image/png": "[encoded data removed]",
      "text/plain": [
       "<Figure size 640x480 with 1 Axes>"
      ]
     },
     "metadata": {},
     "output_type": "display_data"
    }
   ],
   "source": [
    "import matplotlib.pyplot as plt\n",
    "plt.plot([i for i in range(0, len(losses))], losses)"
   ]
  },
  {
   "cell_type": "code",
   "execution_count": 120,
   "id": "24c84574-4ae3-421c-a0d1-f78ee78b5da4",
   "metadata": {},
   "outputs": [],
   "source": [
    "torch.save(m1,\"m_modified.pt\")"
   ]
  },
  {
   "cell_type": "code",
   "execution_count": null,
   "id": "59aab0c5-ca92-4319-a5f4-6868d04387a6",
   "metadata": {},
   "outputs": [],
   "source": [
    "#Modify CNN of Qn. 3 to reduce the number of parameters in the network. Draw a plot of percentage drop in parameters vs accuracy."
   ]
  }
 ],
 "metadata": {
  "kernelspec": {
   "display_name": "Python 3 (ipykernel)",
   "language": "python",
   "name": "python3"
  },
  "language_info": {
   "codemirror_mode": {
    "name": "ipython",
    "version": 3
   },
   "file_extension": ".py",
   "mimetype": "text/x-python",
   "name": "python",
   "nbconvert_exporter": "python",
   "pygments_lexer": "ipython3",
   "version": "3.11.7"
  }
 },
 "nbformat": 4,
 "nbformat_minor": 5
}
