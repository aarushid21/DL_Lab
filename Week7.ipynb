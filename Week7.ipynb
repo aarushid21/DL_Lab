{
 "cells": [
  {
   "cell_type": "code",
   "execution_count": 1,
   "id": "1c1ef2ca",
   "metadata": {
    "id": "1c1ef2ca"
   },
   "outputs": [],
   "source": [
    "#Implement L2 regularization on cat-dog classification neural network. Train the model on the\n",
    "#dataset, and observe the impact of the regularization on the weight parameters. (Do not use\n",
    "#data augmentation).\n",
    "#a. L2 regularization using optimizer’s weight decay\n",
    "#b. L2 regularization using loop to find L2 norm of weights"
   ]
  },
  {
   "cell_type": "code",
   "execution_count": 5,
   "id": "28a6dce1",
   "metadata": {
    "id": "28a6dce1",
    "outputId": "e0a0b1ab-4fac-424c-b973-5873bb3caf91"
   },
   "outputs": [
    {
     "name": "stdout",
     "output_type": "stream",
     "text": [
      "Loss for epoch  0 :  43.79042327404022\n",
      "Loss for epoch  1 :  43.385173320770264\n",
      "Loss for epoch  2 :  43.108703672885895\n",
      "Loss for epoch  3 :  42.62192326784134\n",
      "Loss for epoch  4 :  41.84074866771698\n",
      "Loss for epoch  5 :  42.607627630233765\n"
     ]
    }
   ],
   "source": [
    "#without normalization\n",
    "import torch\n",
    "import torch.nn as nn\n",
    "import torch.optim as optim\n",
    "from torchvision import transforms\n",
    "from torchvision.datasets import ImageFolder\n",
    "from torch.utils.data import Dataset,DataLoader\n",
    "\n",
    "class neural_net(nn.Module):\n",
    "    def __init__(self):\n",
    "        super(neural_net, self).__init__()\n",
    "        self.model = nn.Sequential(nn.Linear(3*100*100, 6000, bias = True),\n",
    "                             nn.ReLU(),\n",
    "                             nn.Linear(6000, 1200, bias = True),\n",
    "                             nn.ReLU(),\n",
    "                             nn.Linear(1200, 100, bias = True),\n",
    "                             nn.ReLU(),\n",
    "                             nn.Linear(100, 1, bias = True),\n",
    "                             nn.Sigmoid())\n",
    "    def forward(self,x):\n",
    "        x = x.view(-1, 30000)\n",
    "        return self.model(x)\n",
    "\n",
    "losses = []\n",
    "directory = 'cats_and_dogs_filtered/train/'\n",
    "transform = transforms.Compose([transforms.Resize((100,100)),transforms.ToTensor()])\n",
    "dataset = ImageFolder(directory, transform=transform)\n",
    "#img, label = dataset[0]\n",
    "#print(img.shape, label)\n",
    "batch_size = 32\n",
    "train_loader = DataLoader(dataset, batch_size, shuffle=True)\n",
    "loss_fn = nn.BCELoss()\n",
    "model = neural_net()\n",
    "optimizer = torch.optim.SGD(model.parameters(), lr=0.01, momentum=0.9)\n",
    "for epoch in range(6):\n",
    "    running_loss = 0.0\n",
    "    for i, data in enumerate(train_loader, 0):\n",
    "        inputs, labels = data\n",
    "        labels = labels.float().unsqueeze(1)\n",
    "        #print(inputs.size())\n",
    "        #print(labels.size())\n",
    "        optimizer.zero_grad()\n",
    "        outputs = model(inputs)\n",
    "        #print(outputs)\n",
    "        loss = loss_fn(outputs, labels)\n",
    "        loss.backward()\n",
    "        optimizer.step()\n",
    "        running_loss += loss.item()\n",
    "    print(\"Loss for epoch \", epoch,\": \",running_loss)\n",
    "    losses.append(running_loss)\n"
   ]
  },
  {
   "cell_type": "code",
   "execution_count": 11,
   "id": "85b41cb3",
   "metadata": {
    "id": "85b41cb3",
    "outputId": "7fd1d675-40e0-4579-ab1c-5b1020255697"
   },
   "outputs": [
    {
     "data": {
      "image/png": "[encoded data removed]",
      "text/plain": [
       "<Figure size 432x288 with 1 Axes>"
      ]
     },
     "metadata": {
      "needs_background": "light"
     },
     "output_type": "display_data"
    }
   ],
   "source": [
    "#loss plot without normalization\n",
    "import matplotlib.pyplot as plt\n",
    "plt.plot([i for i in range(0, len(losses_2))], losses)\n",
    "plt.show()"
   ]
  },
  {
   "cell_type": "code",
   "execution_count": 20,
   "id": "45454bb7",
   "metadata": {
    "id": "45454bb7",
    "outputId": "a78cc001-6971-4d2d-c594-6f5168664787"
   },
   "outputs": [
    {
     "name": "stdout",
     "output_type": "stream",
     "text": [
      "[1] loss: 97.585\n",
      "[2] loss: 97.298\n",
      "[3] loss: 97.036\n",
      "[4] loss: 97.403\n",
      "[5] loss: 97.305\n",
      "[6] loss: 97.118\n",
      "[7] loss: 97.506\n",
      "[8] loss: 97.480\n",
      "[9] loss: 96.945\n",
      "[10] loss: 97.314\n",
      "[11] loss: 97.307\n",
      "[12] loss: 97.557\n",
      "[13] loss: 97.215\n",
      "[14] loss: 97.418\n",
      "[15] loss: 97.301\n",
      "[16] loss: 97.132\n",
      "[17] loss: 97.212\n",
      "[18] loss: 96.924\n",
      "[19] loss: 97.402\n",
      "[20] loss: 97.489\n"
     ]
    }
   ],
   "source": [
    "#with L2 normalization\n",
    "import torch\n",
    "import torch.nn as nn\n",
    "import torch.optim as optim\n",
    "from torchvision.datasets import ImageFolder\n",
    "from torch.utils.data import Dataset,DataLoader\n",
    "\n",
    "class neural_net(nn.Module):\n",
    "    def __init__(self):\n",
    "        super(neural_net, self).__init__()\n",
    "        self.model = nn.Sequential(nn.Linear(3*100*100, 6000, bias = True),\n",
    "                             nn.ReLU(),\n",
    "                             nn.Linear(6000, 1200, bias = True),\n",
    "                             nn.ReLU(),\n",
    "                             nn.Linear(1200, 100, bias = True),\n",
    "                             nn.ReLU(),\n",
    "                             nn.Linear(100, 1, bias = True),\n",
    "                             nn.ReLU())\n",
    "    def forward(self,x):\n",
    "        x = x.view(-1, 30000)\n",
    "        return self.model(x)\n",
    "\n",
    "losses = []\n",
    "directory = 'cats_and_dogs_filtered/train/'\n",
    "transform = transforms.Compose([transforms.Resize((100,100)),transforms.ToTensor()])\n",
    "dataset = ImageFolder(directory, transform=transform)\n",
    "#img, label = dataset[0]\n",
    "#print(img.shape, label)\n",
    "batch_size = 32\n",
    "train_loader = DataLoader(dataset, batch_size, shuffle=True)\n",
    "loss_fn = nn.BCELoss()\n",
    "optimizer = torch.optim.Adam(model.parameters(), lr=0.01, weight_decay=0.1)\n",
    "model = neural_net()\n",
    "\n",
    "for epoch in range(20):\n",
    "    running_loss = 0.0\n",
    "    for i, data in enumerate(train_loader, 0):\n",
    "        inputs, labels = data\n",
    "        labels = labels.float().unsqueeze(1)\n",
    "        #print(inputs.size())\n",
    "        #print(labels.size())\n",
    "        optimizer.zero_grad()\n",
    "        outputs = model(inputs)\n",
    "        #print(outputs.size())\n",
    "        loss = loss_fn(outputs, labels)\n",
    "        loss.backward()\n",
    "        optimizer.step()\n",
    "        running_loss += loss.item()\n",
    "    print('[%d] loss: %.3f' %(epoch + 1, running_loss))\n",
    "    losses.append(running_loss)"
   ]
  },
  {
   "cell_type": "code",
   "execution_count": 21,
   "id": "9a0bdfbb",
   "metadata": {
    "id": "9a0bdfbb",
    "outputId": "932d5b8c-a35c-422c-c398-17ff648ad1ff"
   },
   "outputs": [
    {
     "data": {
      "image/png": "[encoded data removed]",
      "text/plain": [
       "<Figure size 432x288 with 1 Axes>"
      ]
     },
     "metadata": {
      "needs_background": "light"
     },
     "output_type": "display_data"
    }
   ],
   "source": [
    "#loss plot with normalization\n",
    "import matplotlib.pyplot as plt\n",
    "\n",
    "plt.plot([i for i in range(0, len(losses))], losses)\n",
    "plt.show()"
   ]
  },
  {
   "cell_type": "code",
   "execution_count": null,
   "id": "0c79aa91",
   "metadata": {
    "id": "0c79aa91"
   },
   "outputs": [
    {
     "name": "stdout",
     "output_type": "stream",
     "text": [
      "[1] loss: 2310.939\n"
     ]
    }
   ],
   "source": [
    "#loop implmenetation\n",
    "import torch\n",
    "import torch.nn as nn\n",
    "import torch.optim as optim\n",
    "from torchvision.datasets import ImageFolder\n",
    "from torch.utils.data import Dataset,DataLoader\n",
    "\n",
    "class neural_net(nn.Module):\n",
    "    def __init__(self):\n",
    "        super(neural_net, self).__init__()\n",
    "        self.model = nn.Sequential(nn.Linear(3*100*100, 6000, bias = True),\n",
    "                             nn.ReLU(),\n",
    "                             nn.Linear(6000, 1200, bias = True),\n",
    "                             nn.ReLU(),\n",
    "                             nn.Linear(1200, 100, bias = True),\n",
    "                             nn.ReLU(),\n",
    "                             nn.Linear(100, 1, bias = True),\n",
    "                             nn.ReLU())\n",
    "    def forward(self,x):\n",
    "        x = x.view(-1, 30000)\n",
    "        return self.model(x)\n",
    "\n",
    "losses = []\n",
    "directory = 'cats_and_dogs_filtered/train/'\n",
    "transform = transforms.Compose([transforms.Resize((100,100)),transforms.ToTensor()])\n",
    "dataset = ImageFolder(directory, transform=transform)\n",
    "#img, label = dataset[0]\n",
    "#print(img.shape, label)\n",
    "batch_size = 32\n",
    "train_loader = DataLoader(dataset, batch_size, shuffle=True)\n",
    "loss_fn = nn.BCELoss()\n",
    "optimizer = optim.SGD(model.parameters(), lr=0.01,  weight_decay=0.1)\n",
    "model = neural_net()\n",
    "for epoch in range(6):\n",
    "    running_loss = 0.0\n",
    "    for i, data in enumerate(train_loader, 0):\n",
    "        inputs, labels = data\n",
    "        labels = labels.float().unsqueeze(1)\n",
    "        #print(inputs.size())\n",
    "        #print(labels.size())\n",
    "        optimizer.zero_grad()\n",
    "        outputs = model(inputs)\n",
    "        #print(outputs.size())\n",
    "        loss = loss_fn(outputs, labels)\n",
    "        l2_lambda = 0.001\n",
    "        l2_norm = sum(p.pow(2).sum() for p in model.parameters())\n",
    "        loss = loss + l2_norm*l2_lambda\n",
    "        loss.backward()\n",
    "        running_loss += loss.item()\n",
    "        optimizer.step()\n",
    "    print('[%d] loss: %.3f' %(epoch + 1, running_loss))"
   ]
  },
  {
   "cell_type": "code",
   "execution_count": null,
   "id": "FWIkIYfRWXRv",
   "metadata": {
    "id": "FWIkIYfRWXRv"
   },
   "outputs": [],
   "source": [
    "#Implement L1 regularization on cat-dog classification neural network. Train the model on the\n",
    "#dataset, and observe the impact of the regularization on the weight parameters. (Do not use\n",
    "#data augmentation).\n",
    "#a. L1 regularization using optimizer’s weight decay (part A not possible?)\n",
    "#b. L1 regularization using loop to find L1 norm of weights"
   ]
  },
  {
   "cell_type": "code",
   "execution_count": null,
   "id": "b7bXLE5GXI82",
   "metadata": {
    "id": "b7bXLE5GXI82"
   },
   "outputs": [],
   "source": [
    "#with L1 normalization\n",
    "import torch\n",
    "import torch.nn as nn\n",
    "import torch.optim as optim\n",
    "from torchvision.datasets import ImageFolder\n",
    "from torch.utils.data import Dataset,DataLoader\n",
    "\n",
    "class neural_net(nn.Module):\n",
    "    def __init__(self):\n",
    "        super(neural_net, self).__init__()\n",
    "        self.model = nn.Sequential(nn.Linear(3*100*100, 6000, bias = True),\n",
    "                             nn.ReLU(),\n",
    "                             nn.Dropout(0.1),\n",
    "                             nn.Linear(6000, 1200, bias = True),\n",
    "                             nn.Dropout(0.1),\n",
    "                             nn.ReLU(),\n",
    "                             nn.Linear(1200, 100, bias = True),\n",
    "                             nn.Dropout(0.1)\n",
    "                             nn.ReLU(),\n",
    "                             nn.Linear(100, 1, bias = True),\n",
    "                             nn.Dropout(0.1)\n",
    "                             nn.ReLU())\n",
    "    def forward(self,x):\n",
    "        x = x.view(-1, 30000)\n",
    "        return self.model(x)\n",
    "\n",
    "losses = []\n",
    "directory = 'cats_and_dogs_filtered/train/'\n",
    "transform = transforms.Compose([transforms.Resize((100,100)),transforms.ToTensor()])\n",
    "dataset = ImageFolder(directory, transform=transform)\n",
    "#img, label = dataset[0]\n",
    "#print(img.shape, label)\n",
    "batch_size = 32\n",
    "train_loader = DataLoader(dataset, batch_size, shuffle=True)\n",
    "loss_fn = nn.BCELoss()\n",
    "optimizer = torch.optim.Adam(model.parameters(), lr=0.01)\n",
    "model = neural_net()\n",
    "\n",
    "for epoch in range(6):\n",
    "    running_loss = 0.0\n",
    "    for i, data in enumerate(train_loader, 0):\n",
    "        inputs, labels = data\n",
    "        labels = labels.float().unsqueeze(1)\n",
    "        #print(inputs.size())\n",
    "        #print(labels.size())\n",
    "        optimizer.zero_grad()\n",
    "        outputs = model(inputs)\n",
    "        #print(outputs.size())\n",
    "        loss = loss_fn(outputs.flatten(), labels)\n",
    "        l1_weight = 1.0\n",
    "        l1_parameters = []\n",
    "        for parameter in mlp.parameters():\n",
    "          l1_parameters.append(parameter.view(-1))\n",
    "        l1 = l1_weight * mlp.compute_l1_loss(torch.cat(l1_parameters))\n",
    "        loss += l1\n",
    "        loss.backward()\n",
    "        optimizer.step()\n",
    "        losses.append(loss.item())\n",
    "        if(i%30 == 0):\n",
    "            print('[%d, %d] loss: %.3f' %(epoch + 1, i, loss.item()))"
   ]
  },
  {
   "cell_type": "code",
   "execution_count": null,
   "id": "67TcTzGzbmti",
   "metadata": {
    "id": "67TcTzGzbmti"
   },
   "outputs": [],
   "source": [
    "#without normalization\n",
    "import torch\n",
    "import torch.nn as nn\n",
    "import torch.optim as optim\n",
    "from torchvision import transforms\n",
    "from torchvision.datasets import ImageFolder\n",
    "from torch.utils.data import Dataset,DataLoader\n",
    "\n",
    "class neural_net(nn.Module):\n",
    "    def __init__(self):\n",
    "        super(neural_net, self).__init__()\n",
    "        self.model = nn.Sequential(nn.Linear(3*100*100, 6000, bias = True),\n",
    "                             nn.ReLU(),\n",
    "                             nn.Linear(6000, 1200, bias = True),\n",
    "                             nn.ReLU(),\n",
    "                             nn.Linear(1200, 100, bias = True),\n",
    "                             nn.ReLU(),\n",
    "                             nn.Linear(100, 1, bias = True),\n",
    "                             nn.Sigmoid())\n",
    "    def forward(self,x):\n",
    "        x = x.view(-1, 30000)\n",
    "        return self.model(x)\n",
    "\n",
    "losses = []\n",
    "directory = 'cats_and_dogs_filtered/train/'\n",
    "transform = transforms.Compose([transforms.Resize((100,100)),transforms.ToTensor()])\n",
    "dataset = ImageFolder(directory, transform=transform)\n",
    "#img, label = dataset[0]\n",
    "#print(img.shape, label)\n",
    "batch_size = 32\n",
    "train_loader = DataLoader(dataset, batch_size, shuffle=True)\n",
    "loss_fn = nn.BCELoss()\n",
    "model = neural_net()\n",
    "optimizer = torch.optim.SGD(model.parameters(), lr=0.01, momentum=0.9)\n",
    "for epoch in range(6):\n",
    "    running_loss = 0.0\n",
    "    for i, data in enumerate(train_loader, 0):\n",
    "        inputs, labels = data\n",
    "        labels = labels.float().unsqueeze(1)\n",
    "        #print(inputs.size())\n",
    "        #print(labels.size())\n",
    "        optimizer.zero_grad()\n",
    "        outputs = model(inputs)\n",
    "        #print(outputs)\n",
    "        loss = loss_fn(outputs.flatten(), labels)\n",
    "        loss.backward()\n",
    "        optimizer.step()\n",
    "        losses.append(loss.item())\n",
    "        if(i%30 == 0):\n",
    "            print('[%d, %d] loss: %.3f' %(epoch + 1, i, loss.item()))\n"
   ]
  },
  {
   "cell_type": "code",
   "execution_count": null,
   "id": "uG_aGWPpdo11",
   "metadata": {
    "id": "uG_aGWPpdo11"
   },
   "outputs": [],
   "source": [
    "#dropout using bernoulli distribution"
   ]
  },
  {
   "cell_type": "code",
   "execution_count": null,
   "id": "Jz_WgNs4ifeH",
   "metadata": {
    "id": "Jz_WgNs4ifeH"
   },
   "outputs": [],
   "source": []
  },
  {
   "cell_type": "code",
   "execution_count": null,
   "id": "II58hWnPdpxK",
   "metadata": {
    "id": "II58hWnPdpxK"
   },
   "outputs": [],
   "source": [
    "#early stopping\n",
    "#without normalization\n",
    "import torch\n",
    "import torch.nn as nn\n",
    "import torch.optim as optim\n",
    "from torchvision import transforms\n",
    "from torchvision.datasets import ImageFolder\n",
    "from torch.utils.data import Dataset,DataLoader\n",
    "\n",
    "class neural_net(nn.Module):\n",
    "    def __init__(self):\n",
    "        super(neural_net, self).__init__()\n",
    "        self.model = nn.Sequential(nn.Linear(3*100*100, 6000, bias = True),\n",
    "                             nn.ReLU(),\n",
    "                             nn.Linear(6000, 1200, bias = True),\n",
    "                             nn.ReLU(),\n",
    "                             nn.Linear(1200, 100, bias = True),\n",
    "                             nn.ReLU(),\n",
    "                             nn.Linear(100, 1, bias = True),\n",
    "                             nn.Sigmoid())\n",
    "    def forward(self,x):\n",
    "        x = x.view(-1, 30000)\n",
    "        return self.model(x)\n",
    "\n",
    "losses = []\n",
    "directory = 'cats_and_dogs_filtered/train/'\n",
    "test_directory = 'cats_and_dogs_filtered/test/'\n",
    "transform = transforms.Compose([transforms.Resize((100,100)),transforms.ToTensor()])\n",
    "dataset = ImageFolder(directory, transform=transform)\n",
    "test_set = ImageFolder(test_directory, transform=transform)\n",
    "#img, label = dataset[0]\n",
    "#print(img.shape, label)\n",
    "batch_size = 32\n",
    "train_loader = DataLoader(dataset, batch_size, shuffle=True)\n",
    "test_loader = DataLoader(dataset, batch_size, suffle=True)\n",
    "loss_fn = nn.BCELoss()\n",
    "model = neural_net()\n",
    "optimizer = torch.optim.SGD(model.parameters(), lr=0.01, momentum=0.9)\n",
    "best_validation_loss = None\n",
    "patience = 10\n",
    "current_patience = 0\n",
    "for epoch in range(6):\n",
    "    running_loss = 0.0\n",
    "    for i, data in enumerate(train_loader, 0):\n",
    "        model.train()\n",
    "        inputs, labels = data\n",
    "        labels = labels.float().unsqueeze(1)\n",
    "        #print(inputs.size())\n",
    "        #print(labels.size())\n",
    "        optimizer.zero_grad()\n",
    "        outputs = model(inputs)\n",
    "        #print(outputs)\n",
    "        loss = loss_fn(outputs.flatten(), labels)\n",
    "        loss.backward()\n",
    "        optimizer.step()\n",
    "        losses.append(loss.item())\n",
    "        running_loss += loss.item()\n",
    "      print(\"Loss for epoch \", epoch,\": \",running_loss)\n",
    "      losses.append(running_loss)\n",
    "      modal.eval()\n",
    "      validation_loss = 0\n",
    "      for j, data in ennumerate(test_loader, 0):\n",
    "        inputs, labels = data\n",
    "        labels = labels.float().unsqueeze(1)\n",
    "        with torch.no_grad():\n",
    "          outputs = model(inputs)\n",
    "          loss = loss_fn(outputs.flatten(), labels)\n",
    "          validation_loss += loss.item()\n",
    "      validation_loss/=len(test_loader)\n",
    "      if best_validation_losss = None or best_validation_loss > validation_loss:\n",
    "        best_validation_loss = 0\n",
    "        current patience = 0\n",
    "      elif best_validation_loss < validation_loss:\n",
    "        current_patience += 1\n",
    "        if current_patience > patience:\n",
    "          print(\"Early stopping\")\n",
    "          break\n",
    "\n"
   ]
  }
 ],
 "metadata": {
  "colab": {
   "provenance": []
  },
  "kernelspec": {
   "display_name": "Python 3 (ipykernel)",
   "language": "python",
   "name": "python3"
  },
  "language_info": {
   "codemirror_mode": {
    "name": "ipython",
    "version": 3
   },
   "file_extension": ".py",
   "mimetype": "text/x-python",
   "name": "python",
   "nbconvert_exporter": "python",
   "pygments_lexer": "ipython3",
   "version": "3.10.12"
  }
 },
 "nbformat": 4,
 "nbformat_minor": 5
}
