{
 "cells": [
  {
   "cell_type": "code",
   "execution_count": 1,
   "id": "6fcc9380-109c-4d05-8197-a13e861add76",
   "metadata": {},
   "outputs": [],
   "source": [
    "import torch \n"
   ]
  },
  {
   "cell_type": "code",
   "execution_count": 5,
   "id": "56e8b996-ef2b-4325-b1ec-e5c1fffa9243",
   "metadata": {},
   "outputs": [
    {
     "name": "stdout",
     "output_type": "stream",
     "text": [
      "A: tensor([1.], requires_grad=True)\n",
      "B tensor([1.], requires_grad=True)\n",
      "X = 2A + 3B: tensor([5.], grad_fn=<AddBackward0>)\n",
      "Y = 5A^2 + 3B^3: tensor([8.], grad_fn=<AddBackward0>)\n",
      "Z = 2X + 3Y: tensor([34.], grad_fn=<AddBackward0>)\n",
      "Gradient at A = 1 is tensor([34.])\n",
      "Gradient at B = 1 is tensor([33.])\n"
     ]
    }
   ],
   "source": [
    "#Q1: Draw a computational graph, work out dz/da and compare the result with the analytical gradient \n",
    "a = torch.tensor([1.0])\n",
    "a.requires_grad = True\n",
    "b = torch.tensor([1.0])\n",
    "b.requires_grad = True\n",
    "\n",
    "x = 2*a + 3*b\n",
    "y = 5*(a**2) + 3*(b**3)\n",
    "z = 2*x+ 3*y\n",
    "\n",
    "print(\"A:\", a)\n",
    "print(\"B\", b)\n",
    "print(\"X = 2A + 3B:\", x)\n",
    "print(\"Y = 5A^2 + 3B^3:\", y)\n",
    "print(\"Z = 2X + 3Y:\", z)\n",
    "\n",
    "z.backward()\n",
    "print(\"Gradient at A = 1 is\", a.grad)\n",
    "print(\"Gradient at B = 1 is\", b.grad)\n"
   ]
  },
  {
   "cell_type": "code",
   "execution_count": 18,
   "id": "47b335d6-63ee-4616-b9ec-0d0651522d09",
   "metadata": {},
   "outputs": [
    {
     "name": "stdout",
     "output_type": "stream",
     "text": [
      "X: tensor([1.], requires_grad=True)\n",
      "W: tensor([5.], requires_grad=True)\n",
      "B tensor([1.], requires_grad=True)\n",
      "U = WX: tensor([5.], grad_fn=<MulBackward0>)\n",
      "V = U + B: tensor([6.], grad_fn=<AddBackward0>)\n",
      "A = relu(V): tensor([6.], grad_fn=<AddBackward0>)\n",
      "Gradient at X = 1 is tensor([5.])\n",
      "Gradient at W = 5 is tensor([1.])\n",
      "Gradient at B = 1 is tensor([1.])\n"
     ]
    }
   ],
   "source": [
    "#Q2 for the following computational graph, work out the gradient da/dw and compare the result with the analytical graph\n",
    "\n",
    "def relu(a):\n",
    "    if a > 0:\n",
    "        return a\n",
    "    else: \n",
    "        return torch.tensor([0]) \n",
    "\n",
    "x = torch.tensor([1.0])\n",
    "x.requires_grad = True\n",
    "w = torch.tensor([5.0])\n",
    "w.requires_grad = True\n",
    "b = torch.tensor([1.0])\n",
    "b.requires_grad = True\n",
    "u = x*w\n",
    "v = u + b\n",
    "a = relu(v)\n",
    "\n",
    "print(\"X:\", x)\n",
    "print(\"W:\", w)\n",
    "print(\"B\", b)\n",
    "print(\"U = WX:\", u)\n",
    "print(\"V = U + B:\", v)\n",
    "print(\"A = relu(V):\", a)\n",
    "\n",
    "\n",
    "a.backward()\n",
    "print(\"Gradient at X = 1 is\", x.grad)\n",
    "print(\"Gradient at W = 5 is\", w.grad)\n",
    "print(\"Gradient at B = 1 is\", b.grad)\n"
   ]
  },
  {
   "cell_type": "code",
   "execution_count": 21,
   "id": "056d5802-9c43-4e22-8168-57a3eb1cb21c",
   "metadata": {},
   "outputs": [
    {
     "name": "stdout",
     "output_type": "stream",
     "text": [
      "X: tensor([1.], requires_grad=True)\n",
      "W: tensor([5.], requires_grad=True)\n",
      "B tensor([1.], requires_grad=True)\n",
      "U = WX: tensor([5.], grad_fn=<MulBackward0>)\n",
      "V = U + B: tensor([6.], grad_fn=<AddBackward0>)\n",
      "A = sigmoid(V): tensor([0.9975], grad_fn=<MulBackward0>)\n",
      "Gradient at X = 1 is tensor([0.0123])\n",
      "Gradient at W = 5 is tensor([0.0025])\n",
      "Gradient at B = 1 is tensor([0.0025])\n"
     ]
    }
   ],
   "source": [
    "#Q3 Repeat question 2 for sigmoid activation\n",
    "def sig(a):\n",
    "    return 1/(1 + torch.exp(-a))\n",
    "\n",
    "x = torch.tensor([1.0])\n",
    "x.requires_grad = True\n",
    "w = torch.tensor([5.0])\n",
    "w.requires_grad = True\n",
    "b = torch.tensor([1.0])\n",
    "b.requires_grad = True\n",
    "u = x*w\n",
    "v = u + b\n",
    "a = sig(v)\n",
    "\n",
    "print(\"X:\", x)\n",
    "print(\"W:\", w)\n",
    "print(\"B\", b)\n",
    "print(\"U = WX:\", u)\n",
    "print(\"V = U + B:\", v)\n",
    "print(\"A = sigmoid(V):\", a)\n",
    "\n",
    "\n",
    "a.backward()\n",
    "print(\"Gradient at X = 1 is\", x.grad)\n",
    "print(\"Gradient at W = 5 is\", w.grad)\n",
    "print(\"Gradient at B = 1 is\", b.grad)\n"
   ]
  },
  {
   "cell_type": "code",
   "execution_count": 22,
   "id": "16db2356-041f-405f-b92c-261e53686d1e",
   "metadata": {},
   "outputs": [
    {
     "name": "stdout",
     "output_type": "stream",
     "text": [
      "X: tensor([1.], requires_grad=True)\n",
      "F = e^(-X^2 - 2X - sin(X)): tensor([0.0215], grad_fn=<ExpBackward0>)\n",
      "Gradient at X = 1 is tensor([-0.0974])\n"
     ]
    }
   ],
   "source": [
    "#Q4 Verify that the gradients provided by PyTorch match with the analytical gradients of the function\n",
    "\n",
    "x = torch.tensor([1.0])\n",
    "x.requires_grad = True\n",
    "f = torch.exp(-x**2 - 2*x - torch.sin(x))\n",
    "\n",
    "print(\"X:\", x)\n",
    "print(\"F = e^(-X^2 - 2X - sin(X)):\", f)\n",
    "\n",
    "f.backward()\n",
    "print(\"Gradient at X = 1 is\", x.grad)\n"
   ]
  },
  {
   "cell_type": "code",
   "execution_count": 26,
   "id": "0ba3ff1b-bd3a-4e10-9a6a-3cd2ba395cba",
   "metadata": {},
   "outputs": [
    {
     "name": "stdout",
     "output_type": "stream",
     "text": [
      "X: tensor([1.], requires_grad=True)\n",
      "Y = 8X^4 + 3X^3 + 7X^2 +6X + 3 : tensor([27.], grad_fn=<AddBackward0>)\n",
      "Gradient at X = 1 is tensor([61.])\n"
     ]
    }
   ],
   "source": [
    "#Q5 Compute the gradient for the function y = 8x^4 + 3x^3 + 7x^2 +6x + 3 and verify the gradients with analytical gradients. \n",
    "\n",
    "x = torch.tensor([1.0])\n",
    "x.requires_grad = True\n",
    "y = 8*x**4 + 3*x**3 + 7*x**2 + 6*x + 3\n",
    "\n",
    "print(\"X:\", x)\n",
    "print(\"Y = 8X^4 + 3X^3 + 7X^2 +6X + 3 :\", y)\n",
    "\n",
    "y.backward()\n",
    "print(\"Gradient at X = 1 is\", x.grad)\n"
   ]
  },
  {
   "cell_type": "code",
   "execution_count": 30,
   "id": "c3904290-0274-4f57-add0-df0d5d310497",
   "metadata": {},
   "outputs": [
    {
     "name": "stdout",
     "output_type": "stream",
     "text": [
      "X: tensor([1.], requires_grad=True)\n",
      "Y: tensor([1.], requires_grad=True)\n",
      "Z: tensor([1.], requires_grad=True)\n",
      "A = 2X tensor([2.], grad_fn=<MulBackward0>)\n",
      "B = sin(Y): tensor([0.8415], grad_fn=<SinBackward0>)\n",
      "C = A/B: tensor([2.3768], grad_fn=<DivBackward0>)\n",
      "D = CZ: tensor([2.3768], grad_fn=<MulBackward0>)\n",
      "E = ln(D + 1): tensor([1.2169], grad_fn=<LogBackward0>)\n",
      "F = tanh(E): tensor([0.8387], grad_fn=<TanhBackward0>)\n",
      "Gradient at X = 1 is tensor([0.2087])\n",
      "Gradient at Y = 1 is tensor([-0.1340])\n",
      "Gradient at Z = 1 is tensor([0.2087])\n"
     ]
    }
   ],
   "source": [
    "#Q6 Calculate intermediate variables in the forward pass, compare  gradient to analytical gradient \n",
    "\n",
    "x = torch.tensor([1.0])\n",
    "x.requires_grad = True\n",
    "y = torch.tensor([1.0])\n",
    "y.requires_grad = True\n",
    "z = torch.tensor([1.0])\n",
    "z.requires_grad = True\n",
    "\n",
    "a = 2*x\n",
    "b = torch.sin(y)\n",
    "c = a/b\n",
    "d = c*z\n",
    "e = torch.log(d + 1)\n",
    "f = torch.tanh(e)\n",
    "\n",
    "print(\"X:\", x)\n",
    "print(\"Y:\", y)\n",
    "print(\"Z:\", z)\n",
    "print(\"A = 2X\", a)\n",
    "print(\"B = sin(Y):\", b)\n",
    "print(\"C = A/B:\", c)\n",
    "print(\"D = CZ:\", d)\n",
    "print(\"E = ln(D + 1):\", e)\n",
    "print(\"F = tanh(E):\", f)\n",
    "\n",
    "f.backward()\n",
    "print(\"Gradient at X = 1 is\", x.grad)\n",
    "print(\"Gradient at Y = 1 is\", y.grad)\n",
    "print(\"Gradient at Z = 1 is\", z.grad)\n"
   ]
  },
  {
   "cell_type": "code",
   "execution_count": null,
   "id": "724b63fc-d3ae-4466-9be5-920cf38c877a",
   "metadata": {},
   "outputs": [],
   "source": []
  }
 ],
 "metadata": {
  "kernelspec": {
   "display_name": "Python 3 (ipykernel)",
   "language": "python",
   "name": "python3"
  },
  "language_info": {
   "codemirror_mode": {
    "name": "ipython",
    "version": 3
   },
   "file_extension": ".py",
   "mimetype": "text/x-python",
   "name": "python",
   "nbconvert_exporter": "python",
   "pygments_lexer": "ipython3",
   "version": "3.11.7"
  }
 },
 "nbformat": 4,
 "nbformat_minor": 5
}
