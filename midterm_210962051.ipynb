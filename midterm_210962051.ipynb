{
 "cells": [
  {
   "cell_type": "code",
   "execution_count": 1,
   "id": "2dda91d5",
   "metadata": {},
   "outputs": [],
   "source": [
    "import torch"
   ]
  },
  {
   "cell_type": "code",
   "execution_count": 2,
   "id": "8c484d88",
   "metadata": {},
   "outputs": [],
   "source": [
    "from torch.utils.data import Dataset, DataLoader\n",
    "\n",
    "\n",
    "def generateGaussian(tindx):\n",
    "    return torch.normal(tindx[0], tindx[1], (1, 42, 42))\n",
    "\n",
    "class MyDataset(Dataset):\n",
    "    def __init__(self, n):\n",
    "        classes = {0:(0.5, 2), 1:(1, 2.5)}\n",
    "        self.y = [torch.round(torch.rand(1))[0].long() for i in range(n)]\n",
    "        self.X = [generateGaussian(classes[self.y[i].item()]) for i in range(n)]\n",
    "\n",
    "    def __getitem__(self, idx):\n",
    "        return self.X[idx], self.y[idx]\n",
    "\n",
    "    def __len__(self):\n",
    "        return len(self.X)"
   ]
  },
  {
   "cell_type": "code",
   "execution_count": 3,
   "id": "dc7351f8",
   "metadata": {},
   "outputs": [],
   "source": [
    "import torch\n",
    "import torch.nn as nn\n",
    "from torch import optim\n",
    "\n",
    "class CNN(nn.Module):\n",
    "    def __init__(self):\n",
    "        super().__init__()\n",
    "        self.net = nn.Sequential(nn.Conv2d(1, 16, kernel_size = 3, stride = 2, padding=2), \n",
    "        nn.ReLU(), \n",
    "        nn.MaxPool2d((2, 2), stride = 2), \n",
    "        nn.Conv2d(16, 32, kernel_size = 3, stride =1, padding = 0), \n",
    "        nn.ReLU(), \n",
    "        nn.MaxPool2d((2, 2), stride = 2), \n",
    "        nn.Conv2d(32, 4, kernel_size = 3, stride = 2, padding = 2), \n",
    "        nn.ReLU(), \n",
    "        nn.MaxPool2d((2, 2), stride = 2))\n",
    "        self.classification_head = nn.Sequential(nn.Linear(4, 20, bias = True),\n",
    "        nn.ReLU(), \n",
    "        nn.Linear(20, 2, bias = True))\n",
    "\n",
    "    def forward(self, x, batch_size):\n",
    "        features = self.net(x)\n",
    "        return self.classification_head(features.view(batch_size, -1))\n",
    "\n",
    "class customdataset(Dataset):\n",
    "    def __init__(self, x, y):\n",
    "        self.x = x\n",
    "        self.y = y\n",
    "        self.y = self.y.type(torch.LongTensor)\n",
    "\n",
    "    def size(self):\n",
    "        return len(self.x)\n",
    "\n",
    "    def get_item(self, index):\n",
    "        return [self.x[index], self.y[index]]"
   ]
  },
  {
   "cell_type": "code",
   "execution_count": 4,
   "id": "c65ece66",
   "metadata": {},
   "outputs": [],
   "source": [
    "data = MyDataset(1000)\n",
    "\n",
    "stacked_0 = torch.stack(data.X, dim= 0)\n",
    "stacked_1 = torch.stack(data.y, dim= 0)\n",
    "d1 = customdataset(stacked_0, stacked_1)"
   ]
  },
  {
   "cell_type": "code",
   "execution_count": 39,
   "id": "66389083",
   "metadata": {},
   "outputs": [
    {
     "name": "stdout",
     "output_type": "stream",
     "text": [
      "Data entry: 0 Loss is 0.7441999912261963\n",
      "Data entry: 50 Loss is 0.7038244009017944\n",
      "Data entry: 100 Loss is 0.6509103178977966\n",
      "Data entry: 150 Loss is 0.5866546630859375\n",
      "Data entry: 200 Loss is 0.679428219795227\n",
      "Data entry: 0 Loss is 0.7268218398094177\n",
      "Data entry: 50 Loss is 0.34086114168167114\n",
      "Data entry: 100 Loss is 0.20164021849632263\n",
      "Data entry: 150 Loss is 0.24524739384651184\n",
      "Data entry: 200 Loss is 0.3322913944721222\n",
      "Data entry: 0 Loss is 0.19170759618282318\n",
      "Data entry: 50 Loss is 0.10180078446865082\n",
      "Data entry: 100 Loss is 0.031914353370666504\n",
      "Data entry: 150 Loss is 0.08290920406579971\n",
      "Data entry: 200 Loss is 0.022728607058525085\n",
      "Data entry: 0 Loss is 0.030366279184818268\n",
      "Data entry: 50 Loss is 0.030413197353482246\n",
      "Data entry: 100 Loss is 0.00713980570435524\n",
      "Data entry: 150 Loss is 0.02408703602850437\n",
      "Data entry: 200 Loss is 0.003549308516085148\n",
      "Data entry: 0 Loss is 0.7055169939994812\n",
      "Data entry: 50 Loss is 0.005410904064774513\n",
      "Data entry: 100 Loss is 0.0031204181723296642\n",
      "Data entry: 150 Loss is 0.021958235651254654\n",
      "Data entry: 200 Loss is 0.0018100487068295479\n"
     ]
    }
   ],
   "source": [
    "m1 = CNN()\n",
    "loss_fn = nn.CrossEntropyLoss()\n",
    "batch_size = 4\n",
    "train_data_loader = DataLoader(list(zip(d1.x, d1.y)), batch_size, shuffle = True)\n",
    "optimizer = optim.SGD(m1.parameters(), lr=0.01)\n",
    "losses = []\n",
    "\n",
    "for epoch in range(5):\n",
    "    m1.train(True)\n",
    "    loss_t = 0\n",
    "    for i, data in enumerate(train_data_loader):\n",
    "        inputs, labels = data\n",
    "        inputs = inputs.squeeze(1)\n",
    "        inputs = torch.unsqueeze(inputs, 1)\n",
    "        optimizer.zero_grad()\n",
    "        outputs = m1.forward(inputs, batch_size)\n",
    "        loss = loss_fn(outputs, labels)\n",
    "        losses.append(loss.item())\n",
    "        loss.backward()\n",
    "        optimizer.step()\n",
    "        if i%50 == 0:\n",
    "            print(\"Data entry: \" + str(i) + \" Loss is \" + str(loss.item()))\n",
    "    loss_t = loss_t/(len(train_data_loader)*batch_size)\n",
    "    losses.append(loss_t)\n",
    "        "
   ]
  },
  {
   "cell_type": "code",
   "execution_count": 40,
   "id": "060ebad4",
   "metadata": {},
   "outputs": [
    {
     "data": {
      "text/plain": [
       "[<matplotlib.lines.Line2D at 0x7f3dac96f7f0>]"
      ]
     },
     "execution_count": 40,
     "metadata": {},
     "output_type": "execute_result"
    },
    {
     "data": {
      "image/png": "[encoded data removed]",
      "text/plain": [
       "<Figure size 432x288 with 1 Axes>"
      ]
     },
     "metadata": {
      "needs_background": "light"
     },
     "output_type": "display_data"
    }
   ],
   "source": [
    "import matplotlib.pyplot as plt\n",
    "\n",
    "plt.plot([i for i in range(0, len(losses))], losses)"
   ]
  },
  {
   "cell_type": "code",
   "execution_count": 38,
   "id": "35277ec5",
   "metadata": {},
   "outputs": [
    {
     "name": "stdout",
     "output_type": "stream",
     "text": [
      "The overall validation accuracy is  tensor(97.5000)\n"
     ]
    }
   ],
   "source": [
    "data_validation = MyDataset(200)\n",
    "\n",
    "stacked_0 = torch.stack(data_validation.X, dim= 0)\n",
    "stacked_1 = torch.stack(data_validation.y, dim= 0)\n",
    "d_validation = customdataset(stacked_0, stacked_1)\n",
    "\n",
    "validation_data_loader = DataLoader(list(zip(d_validation.x, d_validation.y)), batch_size, shuffle = True)\n",
    "losses = []\n",
    "total = 0\n",
    "correct = 0\n",
    "for epoch in range(1):\n",
    "    m1.train(False)\n",
    "    for i, data in enumerate(train_data_loader):\n",
    "        inputs, labels = data\n",
    "        inputs = inputs.squeeze(1)\n",
    "        inputs = torch.unsqueeze(inputs, 1)\n",
    "        outputs = m1.forward(inputs, batch_size)\n",
    "        _, predicted = torch.max(outputs, 1)\n",
    "        total += labels.size(0)\n",
    "        correct += (predicted == labels).sum()\n",
    "    \n",
    "accuracy = 100*correct/total\n",
    "print(\"The overall validation accuracy is \", accuracy)"
   ]
  },
  {
   "cell_type": "code",
   "execution_count": null,
   "id": "f2ec14e8",
   "metadata": {},
   "outputs": [],
   "source": []
  }
 ],
 "metadata": {
  "kernelspec": {
   "display_name": "Python 3 (ipykernel)",
   "language": "python",
   "name": "python3"
  },
  "language_info": {
   "codemirror_mode": {
    "name": "ipython",
    "version": 3
   },
   "file_extension": ".py",
   "mimetype": "text/x-python",
   "name": "python",
   "nbconvert_exporter": "python",
   "pygments_lexer": "ipython3",
   "version": "3.10.12"
  }
 },
 "nbformat": 4,
 "nbformat_minor": 5
}
